{
  "nbformat": 4,
  "nbformat_minor": 0,
  "metadata": {
    "colab": {
      "provenance": [],
      "authorship_tag": "ABX9TyNIMEZoRH0IWjf62IiUGJW7",
      "include_colab_link": true
    },
    "kernelspec": {
      "name": "python3",
      "display_name": "Python 3"
    },
    "language_info": {
      "name": "python"
    }
  },
  "cells": [
    {
      "cell_type": "markdown",
      "metadata": {
        "id": "view-in-github",
        "colab_type": "text"
      },
      "source": [
        "<a href=\"https://colab.research.google.com/github/hakamiyan/colab-projects/blob/main/Untitled0.ipynb\" target=\"_parent\"><img src=\"https://colab.research.google.com/assets/colab-badge.svg\" alt=\"Open In Colab\"/></a>"
      ]
    },
    {
      "cell_type": "code",
      "execution_count": 1,
      "metadata": {
        "colab": {
          "base_uri": "https://localhost:8080/"
        },
        "id": "XyfG4mit8kQT",
        "outputId": "f07d0dea-4629-45b1-8836-540e331abb04"
      },
      "outputs": [
        {
          "output_type": "stream",
          "name": "stdout",
          "text": [
            "hi\n"
          ]
        }
      ],
      "source": [
        "print(\"hi\")\n"
      ]
    },
    {
      "cell_type": "markdown",
      "source": [],
      "metadata": {
        "id": "kc-V2UiZ8467"
      }
    },
    {
      "cell_type": "code",
      "source": [
        "for number in range(1, 6, 2):\n",
        "\n",
        "    print(number)\n",
        "    print(range(6))\n"
      ],
      "metadata": {
        "colab": {
          "base_uri": "https://localhost:8080/"
        },
        "id": "BLGrFQlt85qq",
        "outputId": "99f3273a-c17b-4d88-f780-490718f4b6c9"
      },
      "execution_count": 2,
      "outputs": [
        {
          "output_type": "stream",
          "name": "stdout",
          "text": [
            "1\n",
            "range(0, 6)\n",
            "3\n",
            "range(0, 6)\n",
            "5\n",
            "range(0, 6)\n"
          ]
        }
      ]
    },
    {
      "cell_type": "markdown",
      "source": [
        "سلام"
      ],
      "metadata": {
        "id": "rKGmvxe39ENy"
      }
    },
    {
      "cell_type": "code",
      "source": [
        "for number in range(1, 6, 2):\n",
        "\n",
        "    print(number)\n",
        "\n"
      ],
      "metadata": {
        "colab": {
          "base_uri": "https://localhost:8080/"
        },
        "id": "pU386gub9N4p",
        "outputId": "4bd5ca70-3f52-4d5d-80f0-f8f1983b6db0"
      },
      "execution_count": 3,
      "outputs": [
        {
          "output_type": "stream",
          "name": "stdout",
          "text": [
            "1\n",
            "3\n",
            "5\n"
          ]
        }
      ]
    },
    {
      "cell_type": "code",
      "source": [
        "import numpy as np\n",
        "# ایجاد یک آرایه یک‌بعدی\n",
        "arr1 = np.array([1, 2, 3, 4, 5])\n",
        "print(\"آرایه 1 بعدی:\")\n",
        "print(arr1)\n",
        "\n",
        "# ایجاد یک آرایه دو‌بعدی (ماتریس)\n",
        "arr2 = np.array([[1, 2, 3], [4, 5, 6]])\n",
        "print(\"\\nآرایه 2 بعدی:\")\n",
        "print(arr2)\n"
      ],
      "metadata": {
        "colab": {
          "base_uri": "https://localhost:8080/"
        },
        "id": "1OP8B0Vf-l1R",
        "outputId": "da67d612-8a20-4f22-a095-54226c676532"
      },
      "execution_count": 5,
      "outputs": [
        {
          "output_type": "stream",
          "name": "stdout",
          "text": [
            "آرایه 1 بعدی:\n",
            "[1 2 3 4 5]\n",
            "\n",
            "آرایه 2 بعدی:\n",
            "[[1 2 3]\n",
            " [4 5 6]]\n"
          ]
        }
      ]
    },
    {
      "cell_type": "code",
      "source": [
        "a=8\n",
        "if a<12 :\n",
        "  print (\"you are young\")"
      ],
      "metadata": {
        "colab": {
          "base_uri": "https://localhost:8080/"
        },
        "id": "NhyTjw43DUmY",
        "outputId": "e0d4255c-1bb1-4201-d03a-5e5c03fac37e"
      },
      "execution_count": 8,
      "outputs": [
        {
          "output_type": "stream",
          "name": "stdout",
          "text": [
            "you are young\n"
          ]
        }
      ]
    },
    {
      "cell_type": "code",
      "source": [
        "print(type(\"hi\"))\n",
        "print(type(range))\n",
        "print(type(12))\n",
        "print(type(2j))\n"
      ],
      "metadata": {
        "colab": {
          "base_uri": "https://localhost:8080/"
        },
        "id": "9378kekFEifg",
        "outputId": "c544dcc1-4063-4f5e-e55d-793762032b01"
      },
      "execution_count": 18,
      "outputs": [
        {
          "output_type": "stream",
          "name": "stdout",
          "text": [
            "<class 'str'>\n",
            "<class 'type'>\n",
            "<class 'int'>\n",
            "<class 'complex'>\n"
          ]
        }
      ]
    }
  ]
}