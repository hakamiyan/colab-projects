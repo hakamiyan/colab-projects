{
  "nbformat": 4,
  "nbformat_minor": 0,
  "metadata": {
    "colab": {
      "provenance": [],
      "authorship_tag": "ABX9TyN63rvH60FQlUs+zXsmVEgA",
      "include_colab_link": true
    },
    "kernelspec": {
      "name": "python3",
      "display_name": "Python 3"
    },
    "language_info": {
      "name": "python"
    }
  },
  "cells": [
    {
      "cell_type": "markdown",
      "metadata": {
        "id": "view-in-github",
        "colab_type": "text"
      },
      "source": [
        "<a href=\"https://colab.research.google.com/github/hakamiyan/colab-projects/blob/main/Untitled0.ipynb\" target=\"_parent\"><img src=\"https://colab.research.google.com/assets/colab-badge.svg\" alt=\"Open In Colab\"/></a>"
      ]
    },
    {
      "cell_type": "markdown",
      "source": [
        "\n",
        "\n",
        "```\n",
        " **python example code**\n",
        "```\n",
        "\n"
      ],
      "metadata": {
        "id": "U9TtgTyQKvan"
      }
    },
    {
      "cell_type": "code",
      "execution_count": null,
      "metadata": {
        "colab": {
          "base_uri": "https://localhost:8080/"
        },
        "id": "XyfG4mit8kQT",
        "outputId": "f07d0dea-4629-45b1-8836-540e331abb04"
      },
      "outputs": [
        {
          "output_type": "stream",
          "name": "stdout",
          "text": [
            "hi\n"
          ]
        }
      ],
      "source": [
        "print(\"hi\")\n"
      ]
    },
    {
      "cell_type": "markdown",
      "source": [],
      "metadata": {
        "id": "kc-V2UiZ8467"
      }
    },
    {
      "cell_type": "code",
      "source": [
        "for number in range(1, 6, 2):\n",
        "\n",
        "    print(number)\n"
      ],
      "metadata": {
        "colab": {
          "base_uri": "https://localhost:8080/"
        },
        "id": "BLGrFQlt85qq",
        "outputId": "3d8a5382-e92b-4071-eccf-20090aa9dbfd"
      },
      "execution_count": 1,
      "outputs": [
        {
          "output_type": "stream",
          "name": "stdout",
          "text": [
            "1\n",
            "3\n",
            "5\n"
          ]
        }
      ]
    },
    {
      "cell_type": "markdown",
      "source": [
        "سلام"
      ],
      "metadata": {
        "id": "rKGmvxe39ENy"
      }
    },
    {
      "cell_type": "code",
      "source": [
        "for number in range(1, 10):\n",
        "\n",
        "    print(number)\n",
        "\n"
      ],
      "metadata": {
        "colab": {
          "base_uri": "https://localhost:8080/"
        },
        "id": "pU386gub9N4p",
        "outputId": "cfab853b-fc52-4068-ec6c-59a420ac75c6"
      },
      "execution_count": 2,
      "outputs": [
        {
          "output_type": "stream",
          "name": "stdout",
          "text": [
            "1\n",
            "2\n",
            "3\n",
            "4\n",
            "5\n",
            "6\n",
            "7\n",
            "8\n",
            "9\n"
          ]
        }
      ]
    },
    {
      "cell_type": "code",
      "source": [
        "for a in range(4):\n",
        "  for b in range(2):\n",
        "    print((a,b))\n"
      ],
      "metadata": {
        "colab": {
          "base_uri": "https://localhost:8080/"
        },
        "id": "6hzMwLZMMAf1",
        "outputId": "d8ac6196-edc7-4a55-b8b6-40073dc595fc"
      },
      "execution_count": 10,
      "outputs": [
        {
          "output_type": "stream",
          "name": "stdout",
          "text": [
            "(0, 0)\n",
            "(0, 1)\n",
            "(1, 0)\n",
            "(1, 1)\n",
            "(2, 0)\n",
            "(2, 1)\n",
            "(3, 0)\n",
            "(3, 1)\n"
          ]
        }
      ]
    },
    {
      "cell_type": "code",
      "source": [
        "for a in range(4):\n",
        "  for b in range(2):\n",
        "\n",
        "    print(f\"[{a},{b}]\")"
      ],
      "metadata": {
        "colab": {
          "base_uri": "https://localhost:8080/"
        },
        "id": "AbD79YFYNGcG",
        "outputId": "7a34a1db-1b0a-487d-c9dd-ee689b1f18d1"
      },
      "execution_count": 9,
      "outputs": [
        {
          "output_type": "stream",
          "name": "stdout",
          "text": [
            "[0,0]\n",
            "[0,1]\n",
            "[1,0]\n",
            "[1,1]\n",
            "[2,0]\n",
            "[2,1]\n",
            "[3,0]\n",
            "[3,1]\n"
          ]
        }
      ]
    },
    {
      "cell_type": "code",
      "source": [
        "a=12\n",
        "if a<10 :\n",
        "  print(\"you are child\")\n",
        "elif a==10:\n",
        "  print(\"you are young\")\n",
        "else:\n",
        "  print(\" you are big old\")"
      ],
      "metadata": {
        "id": "Lx0536_WNdk9",
        "outputId": "646af88d-2cc2-4e0d-b860-0c302405c73a",
        "colab": {
          "base_uri": "https://localhost:8080/"
        }
      },
      "execution_count": 11,
      "outputs": [
        {
          "output_type": "stream",
          "name": "stdout",
          "text": [
            " you are big old\n"
          ]
        }
      ]
    },
    {
      "cell_type": "code",
      "source": [
        "\n",
        "A = int(input(\"enter a number between 0 until 20 :\"))\n",
        "print(type(A))\n",
        "\n",
        "if 0 <= A <= 9:\n",
        "    print(\"mardood\")\n",
        "elif 10 <= A <= 15:\n",
        "    print(\"motavaset\")\n",
        "elif 16 <= A <= 18:\n",
        "    print(\"good\")\n",
        "elif 19 <= A <= 20:\n",
        "    print(\"awesome\")\n",
        "else:\n",
        "    print(\"your number is invalid\")\n"
      ],
      "metadata": {
        "id": "dthYBkFaOSjM",
        "outputId": "b4e9b14f-2b02-4cc0-a129-f2a51bf28c0f",
        "colab": {
          "base_uri": "https://localhost:8080/"
        }
      },
      "execution_count": 15,
      "outputs": [
        {
          "output_type": "stream",
          "name": "stdout",
          "text": [
            "enter a number between 0 until 20 :20\n",
            "<class 'int'>\n",
            "awesome\n"
          ]
        }
      ]
    },
    {
      "cell_type": "code",
      "source": [
        "import numpy as np\n",
        "# ایجاد یک آرایه یک‌بعدی\n",
        "arr1 = np.array([1, 2, 3, 4, 5])\n",
        "print(\"آرایه 1 بعدی:\")\n",
        "print(arr1)\n",
        "\n",
        "# ایجاد یک آرایه دو‌بعدی (ماتریس)\n",
        "arr2 = np.array([[1, 2, 3], [4, 5, 6]])\n",
        "print(\"\\nآرایه 2 بعدی:\")\n",
        "print(arr2)\n"
      ],
      "metadata": {
        "colab": {
          "base_uri": "https://localhost:8080/"
        },
        "id": "1OP8B0Vf-l1R",
        "outputId": "da67d612-8a20-4f22-a095-54226c676532"
      },
      "execution_count": null,
      "outputs": [
        {
          "output_type": "stream",
          "name": "stdout",
          "text": [
            "آرایه 1 بعدی:\n",
            "[1 2 3 4 5]\n",
            "\n",
            "آرایه 2 بعدی:\n",
            "[[1 2 3]\n",
            " [4 5 6]]\n"
          ]
        }
      ]
    },
    {
      "cell_type": "code",
      "source": [
        "a=8\n",
        "if a<12 :\n",
        "  print (\"you are young\")"
      ],
      "metadata": {
        "colab": {
          "base_uri": "https://localhost:8080/"
        },
        "id": "NhyTjw43DUmY",
        "outputId": "e0d4255c-1bb1-4201-d03a-5e5c03fac37e"
      },
      "execution_count": null,
      "outputs": [
        {
          "output_type": "stream",
          "name": "stdout",
          "text": [
            "you are young\n"
          ]
        }
      ]
    },
    {
      "cell_type": "code",
      "source": [
        "print(type(\"hi\"))\n",
        "print(type(range))\n",
        "print(type(12))\n",
        "print(type(2j))\n"
      ],
      "metadata": {
        "colab": {
          "base_uri": "https://localhost:8080/"
        },
        "id": "9378kekFEifg",
        "outputId": "c544dcc1-4063-4f5e-e55d-793762032b01"
      },
      "execution_count": null,
      "outputs": [
        {
          "output_type": "stream",
          "name": "stdout",
          "text": [
            "<class 'str'>\n",
            "<class 'type'>\n",
            "<class 'int'>\n",
            "<class 'complex'>\n"
          ]
        }
      ]
    }
  ]
}