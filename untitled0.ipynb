{
  "nbformat": 4,
  "nbformat_minor": 0,
  "metadata": {
    "colab": {
      "provenance": [],
      "authorship_tag": "ABX9TyOx3+3M5arzUl95QWC5WK7D",
      "include_colab_link": true
    },
    "kernelspec": {
      "name": "python3",
      "display_name": "Python 3"
    },
    "language_info": {
      "name": "python"
    }
  },
  "cells": [
    {
      "cell_type": "markdown",
      "metadata": {
        "id": "view-in-github",
        "colab_type": "text"
      },
      "source": [
        "<a href=\"https://colab.research.google.com/github/hakamiyan/colab-projects/blob/main/untitled0.ipynb\" target=\"_parent\"><img src=\"https://colab.research.google.com/assets/colab-badge.svg\" alt=\"Open In Colab\"/></a>"
      ]
    },
    {
      "cell_type": "markdown",
      "source": [
        "\n",
        "\n",
        "```\n",
        " **python example code**\n",
        "```\n",
        "\n"
      ],
      "metadata": {
        "id": "U9TtgTyQKvan"
      }
    },
    {
      "cell_type": "code",
      "execution_count": 2,
      "metadata": {
        "colab": {
          "base_uri": "https://localhost:8080/"
        },
        "id": "XyfG4mit8kQT",
        "outputId": "2e4b214c-7d0a-40bb-ac65-bf3692813f4a"
      },
      "outputs": [
        {
          "output_type": "stream",
          "name": "stdout",
          "text": [
            "hi\n",
            "well com to python\n",
            "********************\n"
          ]
        }
      ],
      "source": [
        "print(\"hi\")\n",
        "print(\"well com to python\")\n",
        "print(\"*\" * 20)\n"
      ]
    },
    {
      "cell_type": "markdown",
      "source": [],
      "metadata": {
        "id": "kc-V2UiZ8467"
      }
    },
    {
      "cell_type": "code",
      "source": [
        "for number in range(1, 6, 2):\n",
        "\n",
        "    print(number)\n"
      ],
      "metadata": {
        "colab": {
          "base_uri": "https://localhost:8080/"
        },
        "id": "BLGrFQlt85qq",
        "outputId": "3d8a5382-e92b-4071-eccf-20090aa9dbfd"
      },
      "execution_count": null,
      "outputs": [
        {
          "output_type": "stream",
          "name": "stdout",
          "text": [
            "1\n",
            "3\n",
            "5\n"
          ]
        }
      ]
    },
    {
      "cell_type": "markdown",
      "source": [
        "سلام"
      ],
      "metadata": {
        "id": "rKGmvxe39ENy"
      }
    },
    {
      "cell_type": "code",
      "source": [
        "for number in range(1, 10):\n",
        "\n",
        "    print(number)\n",
        "\n"
      ],
      "metadata": {
        "colab": {
          "base_uri": "https://localhost:8080/"
        },
        "id": "pU386gub9N4p",
        "outputId": "cfab853b-fc52-4068-ec6c-59a420ac75c6"
      },
      "execution_count": null,
      "outputs": [
        {
          "output_type": "stream",
          "name": "stdout",
          "text": [
            "1\n",
            "2\n",
            "3\n",
            "4\n",
            "5\n",
            "6\n",
            "7\n",
            "8\n",
            "9\n"
          ]
        }
      ]
    },
    {
      "cell_type": "code",
      "source": [
        "for a in range(4):\n",
        "  for b in range(2):\n",
        "    print((a,b))\n"
      ],
      "metadata": {
        "colab": {
          "base_uri": "https://localhost:8080/"
        },
        "id": "6hzMwLZMMAf1",
        "outputId": "d8ac6196-edc7-4a55-b8b6-40073dc595fc"
      },
      "execution_count": null,
      "outputs": [
        {
          "output_type": "stream",
          "name": "stdout",
          "text": [
            "(0, 0)\n",
            "(0, 1)\n",
            "(1, 0)\n",
            "(1, 1)\n",
            "(2, 0)\n",
            "(2, 1)\n",
            "(3, 0)\n",
            "(3, 1)\n"
          ]
        }
      ]
    },
    {
      "cell_type": "code",
      "source": [
        "for a in range(4):\n",
        "  for b in range(2):\n",
        "\n",
        "    print(f\"[{a},{b}]\")"
      ],
      "metadata": {
        "colab": {
          "base_uri": "https://localhost:8080/"
        },
        "id": "AbD79YFYNGcG",
        "outputId": "7a34a1db-1b0a-487d-c9dd-ee689b1f18d1"
      },
      "execution_count": null,
      "outputs": [
        {
          "output_type": "stream",
          "name": "stdout",
          "text": [
            "[0,0]\n",
            "[0,1]\n",
            "[1,0]\n",
            "[1,1]\n",
            "[2,0]\n",
            "[2,1]\n",
            "[3,0]\n",
            "[3,1]\n"
          ]
        }
      ]
    },
    {
      "cell_type": "code",
      "source": [
        "a=12\n",
        "if a<10 :\n",
        "  print(\"you are child\")\n",
        "elif a==10:\n",
        "  print(\"you are young\")\n",
        "else:\n",
        "  print(\" you are big old\")"
      ],
      "metadata": {
        "colab": {
          "base_uri": "https://localhost:8080/"
        },
        "id": "Lx0536_WNdk9",
        "outputId": "646af88d-2cc2-4e0d-b860-0c302405c73a"
      },
      "execution_count": null,
      "outputs": [
        {
          "output_type": "stream",
          "name": "stdout",
          "text": [
            " you are big old\n"
          ]
        }
      ]
    },
    {
      "cell_type": "code",
      "source": [
        "def greet():\n",
        "    print(\"hi everyone\")\n",
        "    print(12*12)\n",
        "\n",
        "greet()\n"
      ],
      "metadata": {
        "colab": {
          "base_uri": "https://localhost:8080/"
        },
        "id": "7g92LGrMQkb8",
        "outputId": "ead1c1ab-c3b3-4654-c21c-4acfea7ebb6a"
      },
      "execution_count": null,
      "outputs": [
        {
          "output_type": "stream",
          "name": "stdout",
          "text": [
            "hi everyone\n",
            "144\n"
          ]
        }
      ]
    },
    {
      "cell_type": "code",
      "source": [
        "def multiply(x, y):\n",
        "    return x * y\n",
        "\n",
        "\n",
        "print(multiply(2, 4))"
      ],
      "metadata": {
        "colab": {
          "base_uri": "https://localhost:8080/"
        },
        "id": "L9hlzK6BQ7V0",
        "outputId": "f414085f-989c-42e5-97b4-fba14fe7b9eb"
      },
      "execution_count": null,
      "outputs": [
        {
          "output_type": "stream",
          "name": "stdout",
          "text": [
            "8\n"
          ]
        }
      ]
    },
    {
      "cell_type": "code",
      "source": [
        "def greet(first_name):\n",
        "    print(f\"hi {first_name}\")\n",
        "\n",
        "\n",
        "greet(\"\")\n",
        "\n",
        "m = greet(\" \")\n",
        "print(m)\n",
        "# دو خط بالا یا خلاصه زیر\n",
        "print(greet(m))"
      ],
      "metadata": {
        "colab": {
          "base_uri": "https://localhost:8080/"
        },
        "id": "M5n2AwPITT4j",
        "outputId": "a54e188e-e006-4936-985a-6a7dde72ea5b"
      },
      "execution_count": null,
      "outputs": [
        {
          "output_type": "stream",
          "name": "stdout",
          "text": [
            "hi \n",
            "hi  \n",
            "None\n",
            "hi None\n",
            "None\n"
          ]
        }
      ]
    },
    {
      "cell_type": "markdown",
      "source": [
        "It prints a value from the function, and since it does not return anything, it prints `None`\n"
      ],
      "metadata": {
        "id": "vGPmRoGEX8Pr"
      }
    },
    {
      "cell_type": "code",
      "source": [
        "#  It prints a value from the function, and since it does not return anything, it prints None\n",
        "\n",
        "def greet(first_name):\n",
        "    print(f\"hi {first_name}\")\n",
        "\n",
        "m = greet(\" 1\")\n",
        "print(m)\n"
      ],
      "metadata": {
        "colab": {
          "base_uri": "https://localhost:8080/"
        },
        "id": "tM5r055zTfT7",
        "outputId": "bafdb1e5-c406-4683-e646-edd3d95ca692"
      },
      "execution_count": null,
      "outputs": [
        {
          "output_type": "stream",
          "name": "stdout",
          "text": [
            "hi  1\n",
            "None\n"
          ]
        }
      ]
    },
    {
      "cell_type": "markdown",
      "source": [
        "because  : return a value from  a function"
      ],
      "metadata": {
        "id": "ZpArBbf8VYrz"
      }
    },
    {
      "cell_type": "code",
      "source": [
        "def greet(first_name):\n",
        "  return f\"hi {first_name}\"\n",
        "print(greet(\"reza\"))"
      ],
      "metadata": {
        "colab": {
          "base_uri": "https://localhost:8080/"
        },
        "id": "IOmOyBAlUNwL",
        "outputId": "788ef92f-5385-4a47-a278-51f55be82db3"
      },
      "execution_count": null,
      "outputs": [
        {
          "output_type": "stream",
          "name": "stdout",
          "text": [
            "hi reza\n"
          ]
        }
      ]
    },
    {
      "cell_type": "code",
      "source": [
        "\n",
        "A = int(input(\"enter a number between 0 until 20 :\"))\n",
        "print(type(A))\n",
        "\n",
        "if 0 <= A <= 9:\n",
        "    print(\"mardood\")\n",
        "elif 10 <= A <= 15:\n",
        "    print(\"motavaset\")\n",
        "elif 16 <= A <= 18:\n",
        "    print(\"good\")\n",
        "elif 19 <= A <= 20:\n",
        "    print(\"awesome\")\n",
        "else:\n",
        "    print(\"your number is invalid\")\n"
      ],
      "metadata": {
        "colab": {
          "base_uri": "https://localhost:8080/"
        },
        "id": "dthYBkFaOSjM",
        "outputId": "b4e9b14f-2b02-4cc0-a129-f2a51bf28c0f"
      },
      "execution_count": null,
      "outputs": [
        {
          "output_type": "stream",
          "name": "stdout",
          "text": [
            "enter a number between 0 until 20 :20\n",
            "<class 'int'>\n",
            "awesome\n"
          ]
        }
      ]
    },
    {
      "cell_type": "code",
      "source": [
        "import numpy as np\n",
        "# ایجاد یک آرایه یک‌بعدی\n",
        "arr1 = np.array([1, 2, 3, 4, 5])\n",
        "print(\"آرایه 1 بعدی:\")\n",
        "print(arr1)\n",
        "\n",
        "# ایجاد یک آرایه دو‌بعدی (ماتریس)\n",
        "arr2 = np.array([[1, 2, 3], [4, 5, 6]])\n",
        "print(\"\\nآرایه 2 بعدی:\")\n",
        "print(arr2)\n"
      ],
      "metadata": {
        "colab": {
          "base_uri": "https://localhost:8080/"
        },
        "id": "1OP8B0Vf-l1R",
        "outputId": "da67d612-8a20-4f22-a095-54226c676532"
      },
      "execution_count": null,
      "outputs": [
        {
          "output_type": "stream",
          "name": "stdout",
          "text": [
            "آرایه 1 بعدی:\n",
            "[1 2 3 4 5]\n",
            "\n",
            "آرایه 2 بعدی:\n",
            "[[1 2 3]\n",
            " [4 5 6]]\n"
          ]
        }
      ]
    },
    {
      "cell_type": "code",
      "source": [
        "a=8\n",
        "if a<12 :\n",
        "  print (\"you are young\")"
      ],
      "metadata": {
        "colab": {
          "base_uri": "https://localhost:8080/"
        },
        "id": "NhyTjw43DUmY",
        "outputId": "e0d4255c-1bb1-4201-d03a-5e5c03fac37e"
      },
      "execution_count": null,
      "outputs": [
        {
          "output_type": "stream",
          "name": "stdout",
          "text": [
            "you are young\n"
          ]
        }
      ]
    },
    {
      "cell_type": "code",
      "source": [
        "print(type(\"hi\"))\n",
        "print(type(range))\n",
        "print(type(12))\n",
        "print(type(2j))\n"
      ],
      "metadata": {
        "colab": {
          "base_uri": "https://localhost:8080/"
        },
        "id": "9378kekFEifg",
        "outputId": "c544dcc1-4063-4f5e-e55d-793762032b01"
      },
      "execution_count": null,
      "outputs": [
        {
          "output_type": "stream",
          "name": "stdout",
          "text": [
            "<class 'str'>\n",
            "<class 'type'>\n",
            "<class 'int'>\n",
            "<class 'complex'>\n"
          ]
        }
      ]
    },
    {
      "cell_type": "code",
      "source": [
        "from scipy.integrate import odeint\n",
        "import numpy as np\n",
        "import matplotlib.pyplot as plt\n",
        "\n",
        "def ode_func(x, t):\n",
        "    # x = [displacement, velocity]\n",
        "    # x[0] = displacement\n",
        "    # x[1] = velocity\n",
        "\n",
        "    # dxdt = [d(displacement)/dt, d(velocity)/dt]\n",
        "    dxdt = [x[1], -x[0]]  # ساده‌ترین سیستم مرتبه دوم (حرکت نوسانی)\n",
        "    return dxdt\n",
        "\n",
        "# Initial conditions 1\n",
        "x01 = [0.0, 1.0]  # Initial displacement and velocity\n",
        "# Time for first solution\n",
        "t1 = np.linspace(0, 10, 1000)\n",
        "\n",
        "# Initial conditions 2\n",
        "x02 = [5.0, 3.0]  # Initial displacement and velocity\n",
        "# Time for second solution\n",
        "t2 = np.linspace(0, 10, 1000)\n",
        "\n",
        "# Solve the system of differential equations using odeint\n",
        "solution1 = odeint(ode_func, x01, t1)\n",
        "solution2 = odeint(ode_func, x02, t2)\n",
        "\n",
        "# Display the solution\n",
        "plt.plot(t1, solution1[:, 0], label='Displacement 1 (x)')\n",
        "plt.plot(t2, solution2[:, 0], label='Displacement 2 (x)')\n",
        "plt.xlabel('Time (t)')\n",
        "plt.ylabel('Displacement')\n",
        "plt.legend()\n",
        "plt.show()\n"
      ],
      "metadata": {
        "colab": {
          "base_uri": "https://localhost:8080/",
          "height": 449
        },
        "id": "eiAMGeRrTnRF",
        "outputId": "78ba3a81-4cb1-43bd-d1e5-768be0cd0033"
      },
      "execution_count": 4,
      "outputs": [
        {
          "output_type": "display_data",
          "data": {
            "text/plain": [
              "<Figure size 640x480 with 1 Axes>"
            ],
            "image/png": "[encoded data removed]"
          },
          "metadata": {}
        }
      ]
    },
    {
      "cell_type": "code",
      "source": [
        "import calendar\n",
        "yy = 2024\n",
        "mm = 1\n",
        "print(calendar.month(yy, mm))\n",
        "mm = 2\n",
        "print(calendar.month(yy, mm))\n",
        "mm = 3\n",
        "print(calendar.month(yy, mm))\n",
        "mm = 4\n",
        "print(calendar.month(yy, mm))\n",
        "mm = 5\n",
        "print(calendar.month(yy, mm))"
      ],
      "metadata": {
        "id": "seL3WYflG4ti",
        "outputId": "7678c20b-f06b-45cb-fdca-65e39c2be8fc",
        "colab": {
          "base_uri": "https://localhost:8080/"
        }
      },
      "execution_count": 1,
      "outputs": [
        {
          "output_type": "stream",
          "name": "stdout",
          "text": [
            "    January 2024\n",
            "Mo Tu We Th Fr Sa Su\n",
            " 1  2  3  4  5  6  7\n",
            " 8  9 10 11 12 13 14\n",
            "15 16 17 18 19 20 21\n",
            "22 23 24 25 26 27 28\n",
            "29 30 31\n",
            "\n",
            "   February 2024\n",
            "Mo Tu We Th Fr Sa Su\n",
            "          1  2  3  4\n",
            " 5  6  7  8  9 10 11\n",
            "12 13 14 15 16 17 18\n",
            "19 20 21 22 23 24 25\n",
            "26 27 28 29\n",
            "\n",
            "     March 2024\n",
            "Mo Tu We Th Fr Sa Su\n",
            "             1  2  3\n",
            " 4  5  6  7  8  9 10\n",
            "11 12 13 14 15 16 17\n",
            "18 19 20 21 22 23 24\n",
            "25 26 27 28 29 30 31\n",
            "\n",
            "     April 2024\n",
            "Mo Tu We Th Fr Sa Su\n",
            " 1  2  3  4  5  6  7\n",
            " 8  9 10 11 12 13 14\n",
            "15 16 17 18 19 20 21\n",
            "22 23 24 25 26 27 28\n",
            "29 30\n",
            "\n",
            "      May 2024\n",
            "Mo Tu We Th Fr Sa Su\n",
            "       1  2  3  4  5\n",
            " 6  7  8  9 10 11 12\n",
            "13 14 15 16 17 18 19\n",
            "20 21 22 23 24 25 26\n",
            "27 28 29 30 31\n",
            "\n"
          ]
        }
      ]
    },
    {
      "cell_type": "code",
      "source": [
        "import calendar\n",
        "yy = 2024\n",
        "mm = 1\n",
        "print(f\"first month ={calendar.month(yy, mm)}\")\n",
        "mm += 1\n",
        "print(calendar.month(yy, mm))\n",
        "mm += 1\n",
        "print(calendar.month(yy, mm))\n",
        "mm += 1\n",
        "print(calendar.month(yy, mm))\n",
        "mm += 1\n",
        "print(calendar.month(yy, mm))\n"
      ],
      "metadata": {
        "id": "rdkEMM4NM_OQ",
        "outputId": "f2a2137b-c571-42e2-a9e8-ebcad82fb2d8",
        "colab": {
          "base_uri": "https://localhost:8080/"
        }
      },
      "execution_count": 2,
      "outputs": [
        {
          "output_type": "stream",
          "name": "stdout",
          "text": [
            "first month =    January 2024\n",
            "Mo Tu We Th Fr Sa Su\n",
            " 1  2  3  4  5  6  7\n",
            " 8  9 10 11 12 13 14\n",
            "15 16 17 18 19 20 21\n",
            "22 23 24 25 26 27 28\n",
            "29 30 31\n",
            "\n",
            "   February 2024\n",
            "Mo Tu We Th Fr Sa Su\n",
            "          1  2  3  4\n",
            " 5  6  7  8  9 10 11\n",
            "12 13 14 15 16 17 18\n",
            "19 20 21 22 23 24 25\n",
            "26 27 28 29\n",
            "\n",
            "     March 2024\n",
            "Mo Tu We Th Fr Sa Su\n",
            "             1  2  3\n",
            " 4  5  6  7  8  9 10\n",
            "11 12 13 14 15 16 17\n",
            "18 19 20 21 22 23 24\n",
            "25 26 27 28 29 30 31\n",
            "\n",
            "     April 2024\n",
            "Mo Tu We Th Fr Sa Su\n",
            " 1  2  3  4  5  6  7\n",
            " 8  9 10 11 12 13 14\n",
            "15 16 17 18 19 20 21\n",
            "22 23 24 25 26 27 28\n",
            "29 30\n",
            "\n",
            "      May 2024\n",
            "Mo Tu We Th Fr Sa Su\n",
            "       1  2  3  4  5\n",
            " 6  7  8  9 10 11 12\n",
            "13 14 15 16 17 18 19\n",
            "20 21 22 23 24 25 26\n",
            "27 28 29 30 31\n",
            "\n"
          ]
        }
      ]
    }
  ]
}